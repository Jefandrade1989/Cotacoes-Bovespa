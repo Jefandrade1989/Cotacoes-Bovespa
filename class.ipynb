{
  "nbformat": 4,
  "nbformat_minor": 0,
  "metadata": {
    "colab": {
      "provenance": [],
      "authorship_tag": "ABX9TyOSVJfK7hTf+4g5/vft+TyG",
      "include_colab_link": true
    },
    "kernelspec": {
      "name": "python3",
      "display_name": "Python 3"
    },
    "language_info": {
      "name": "python"
    }
  },
  "cells": [
    {
      "cell_type": "markdown",
      "metadata": {
        "id": "view-in-github",
        "colab_type": "text"
      },
      "source": [
        "<a href=\"https://colab.research.google.com/github/Jefandrade1989/Cotacoes-Bovespa/blob/main/class.ipynb\" target=\"_parent\"><img src=\"https://colab.research.google.com/assets/colab-badge.svg\" alt=\"Open In Colab\"/></a>"
      ]
    },
    {
      "cell_type": "code",
      "source": [
        "class Carro:\n",
        "  def __init__(self, marca, cor, ano):\n",
        "     self.marca = marca\n",
        "     self.cor = cor\n",
        "     self.ano = ano\n",
        "\n",
        "\n",
        "\n",
        "  def ligandoAutomovel(self):\n",
        "      print('Ligando carro')\n",
        "\n",
        "  def passandoMarcha(self):\n",
        "      print('Passando de marcha')\n",
        "\n",
        "  def desligandoAutomovel(self):\n",
        "      print('Desligando Carro')\n",
        "\n",
        "  def exibirInformacoes(self):\n",
        "      print(carro1.marca,carro1.cor,carro1.ano)\n",
        "\n",
        "carro1 = Carro('Audi', 'branco','2023')\n",
        "carro1.ligandoAutomovel()\n",
        "carro1.exibirInformacoes()\n",
        "carro1.passandoMarcha()\n",
        "carro1.desligandoAutomovel()\n",
        "  "
      ],
      "metadata": {
        "colab": {
          "base_uri": "https://localhost:8080/"
        },
        "id": "snoawwJq4VX9",
        "outputId": "96e31215-12a9-4ce8-d500-bdffc0107011"
      },
      "execution_count": 2,
      "outputs": [
        {
          "output_type": "stream",
          "name": "stdout",
          "text": [
            "Ligando carro\n",
            "Audi branco 2023\n",
            "Passando de marcha\n",
            "Desligando Carro\n"
          ]
        }
      ]
    },
    {
      "cell_type": "code",
      "source": [
        "class Televisao:\n",
        "    def __init__(self, marca, cor, resolucao):\n",
        "        self.marca = marca\n",
        "        self.cor = cor\n",
        "        self.resolucao = resolucao\n",
        "\n",
        "    def ligandoTv(self):\n",
        "        print('Ligando Tv')\n",
        "\n",
        "    def desligandoTv(self):\n",
        "        print('Desligando Tv')\n",
        "\n",
        "    def exibindoInformacoes(self):\n",
        "      print(self.marca, self.cor, self.resolucao)\n",
        "\n",
        "tv1 = Televisao('LG', 'PRETA', '4K')\n",
        "tv2 = Televisao('PHILCO', 'PRETA', '4K')\n",
        "\n",
        "tv1.ligandoTv()\n",
        "tv1.exibindoInformacoes()\n",
        "tv1.desligandoTv()\n",
        "tv1.exibindoInformacoes()\n",
        "\n"
      ],
      "metadata": {
        "colab": {
          "base_uri": "https://localhost:8080/"
        },
        "id": "a1EVYWklQkJr",
        "outputId": "974bfc6a-11e3-4506-883b-d14752d09bd4"
      },
      "execution_count": 7,
      "outputs": [
        {
          "output_type": "stream",
          "name": "stdout",
          "text": [
            "Ligando Tv\n",
            "LG PRETA 4K\n",
            "Desligando Tv\n",
            "LG PRETA 4K\n"
          ]
        }
      ]
    }
  ]
}